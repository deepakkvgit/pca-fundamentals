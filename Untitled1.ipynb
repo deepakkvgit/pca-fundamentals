{
 "cells": [
  {
   "cell_type": "code",
   "execution_count": 3,
   "metadata": {},
   "outputs": [],
   "source": [
    "import ast,sys\n",
    "import math\n",
    "input_str = sys.stdin.read()\n",
    "input_list = [2, 14, 15, 16]"
   ]
  },
  {
   "cell_type": "code",
   "execution_count": 13,
   "metadata": {},
   "outputs": [
    {
     "name": "stdout",
     "output_type": "stream",
     "text": [
      "45\n"
     ]
    }
   ],
   "source": [
    "# write code here\n",
    "def myroundfunc(val):\n",
    "    rem = val%5\n",
    "    return val-rem if rem <3 else val + 5 - rem\n",
    "# store the sum in the following variable\n",
    "result = 0\n",
    "for num in input_list:\n",
    "    result = result + myroundfunc(num)\n",
    "    \n",
    "\n",
    "# do not change the following code\n",
    "print(result)"
   ]
  },
  {
   "cell_type": "code",
   "execution_count": 60,
   "metadata": {},
   "outputs": [
    {
     "name": "stdout",
     "output_type": "stream",
     "text": [
      "14245\n"
     ]
    }
   ],
   "source": [
    "import ast,sys\n",
    "import numpy as np\n",
    "\n",
    "\n",
    "a = 20\n",
    "b = 100\n",
    "c = 15\n",
    "\n",
    "# write code here\n",
    "def weird_function(a, b, c, n):\n",
    "    if (n > b):\n",
    "        return n-c\n",
    "    else:\n",
    "        return weird_function(a,b,c, a+weird_function(a,b,c, a+weird_function(a,b,c, a+weird_function(a,b,c, a+n))))\n",
    "        \n",
    "def large_sum(a, b, c):\n",
    "    large_sum = 0\n",
    "    for i in range(b+1):\n",
    "        large_sum += weird_function(a, b, c, i)\n",
    "    return large_sum\n",
    "\n",
    "# store the result in the following variable\n",
    "result = large_sum(a, b, c)\n",
    "\n",
    "# print result -- do not change the following code\n",
    "print(result)"
   ]
  },
  {
   "cell_type": "code",
   "execution_count": 51,
   "metadata": {},
   "outputs": [
    {
     "name": "stdout",
     "output_type": "stream",
     "text": [
      "14245\n"
     ]
    }
   ],
   "source": [
    "import ast,sys\n",
    "import numpy as np\n",
    "\n",
    "a = 20\n",
    "b = 100\n",
    "c = 15\n",
    "# write code here\n",
    "sum = 0\n",
    "\n",
    "def weird_function(a,b,c,n):\n",
    "    if n>b:\n",
    "        return n-c\n",
    "    else:\n",
    "        return weird_function(a,b,c, a+weird_function(a,b,c, a+weird_function(a,b,c, a+weird_function(a,b,c, a+n))))\n",
    "        return weird_function(a,b,c, a+weird_function(a,b,c, a+weird_function(a,b,c, a+weird_function(a,b,c, a+n))))\n",
    "\n",
    "def large_sum(a, b, c):\n",
    "    large_sum = 0\n",
    "    for value in range(b+1):\n",
    "        large_sum += weird_function(a, b, c, value)\n",
    "    return large_sum\n",
    "\n",
    "# store the result in the following variable\n",
    "result = large_sum(a, b, c)\n",
    "\n",
    "# print result -- do not change the following code\n",
    "print(result)"
   ]
  },
  {
   "cell_type": "code",
   "execution_count": null,
   "metadata": {},
   "outputs": [],
   "source": []
  }
 ],
 "metadata": {
  "kernelspec": {
   "display_name": "Python 3",
   "language": "python",
   "name": "python3"
  },
  "language_info": {
   "codemirror_mode": {
    "name": "ipython",
    "version": 3
   },
   "file_extension": ".py",
   "mimetype": "text/x-python",
   "name": "python",
   "nbconvert_exporter": "python",
   "pygments_lexer": "ipython3",
   "version": "3.7.3"
  }
 },
 "nbformat": 4,
 "nbformat_minor": 2
}
